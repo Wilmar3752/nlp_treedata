{
 "cells": [
  {
   "cell_type": "code",
   "execution_count": null,
   "id": "51c5b089",
   "metadata": {},
   "outputs": [],
   "source": [
    "pip install pdfminer.six"
   ]
  },
  {
   "cell_type": "code",
   "execution_count": 1,
   "id": "6ea9b4db",
   "metadata": {},
   "outputs": [],
   "source": [
    "import sys"
   ]
  },
  {
   "cell_type": "code",
   "execution_count": 2,
   "id": "d5804fa0",
   "metadata": {},
   "outputs": [],
   "source": [
    "sys.path.append(\"/usr/home/username/pdfminer\")"
   ]
  },
  {
   "cell_type": "code",
   "execution_count": 3,
   "id": "44332e45",
   "metadata": {},
   "outputs": [],
   "source": [
    "from pdfminer.high_level import extract_text"
   ]
  },
  {
   "cell_type": "code",
   "execution_count": 4,
   "id": "5814f5fc",
   "metadata": {},
   "outputs": [],
   "source": [
    "PDF_read = extract_text('C:/Users/jenny/Desktop/Carlos/Prueba.PDF')"
   ]
  },
  {
   "cell_type": "code",
   "execution_count": 5,
   "id": "9e9a1c3d",
   "metadata": {},
   "outputs": [
    {
     "data": {
      "text/plain": [
       "'1 \\n\\nUNIVERSIDAD DEL VALLE \\n\\nCONSEJO ACADÉMICO \\n\\nRESOLUCIÓN No. 040 \\n17 de febrero de 2022 \\n\\n“Por la cual se establece el calendario para el primer período académico de \\n2022, para los programas académicos de Pregrado que se ofrecen en la Sede \\nCali y se modifica la resolución No. 197 del 14 de octubre de 2021 del Consejo \\nAcadémico”. \\n\\nEL CONSEJO ACADÉMICO DE LA UNIVERSIDAD DEL VALLE, en uso de \\nlas  atribuciones  que  le  confiere  el  literal  h)  del  Artículo  20°  del  Estatuto \\nGeneral de la Universidad del Valle, \\n\\nR E S U E L V E: \\n\\nARTÍCULO 1º. \\n\\nModificar parcialmente, la Resolución No. 197 del \\n14 de octubre de 2021 del Consejo Académico, por \\nla cual se estableció el calendario académico para el proceso de INSCRIPCIÓN \\nY ADMISIÓN A PRIMER SEMESTRE para el primer periodo de 2022, para los \\nprogramas académicos de PREGRADO que se ofrecen en la Sede Cali, así: \\n\\nPublicación de admitidos por REINSCRIPCIÓN \\n\\n17 de febrero de \\n\\nPublicación  en  la  web  de  la  información  para \\noficializar  la  matrícula  a  los  admitidos  por \\nReinscripción \\n\\nRecepción de documentos soporte digitalizados a  \\nadmitidos por Reinscripción, para liquidación de \\nlos derechos económicos y matrícula académica \\n\\n17 de febrero \\n\\n 21 y 22 de febrero \\n\\nDescarga de recibos de pago para \\n\\nA partir del 28 de febrero \\n\\n todos los admitidos  \\n\\nPlazo  para  pago  en  el  Banco  para  todos  los \\nadmitidos: \\n\\n- Sin recargo \\n\\n- Con recargo \\n\\n3 de marzo \\n\\n4 de marzo \\n\\nUniversidaddel Valle \\n \\n \\n \\n \\n \\n \\n \\n \\n \\n \\n \\n \\n \\n  \\n \\n\\x0cUNIVERSIDAD DEL VALLE \\nRESOLUCIÓN No. 040 - 2022         Consejo Académico  \\n\\n2 \\n\\nRESERVA DE CUPO  \\n\\n-  Solicitar reserva de cupo  \\n\\nEntre el 4 y el 25 de febrero  \\n\\n- Respuesta a las solicitudes de reserva de cupo \\n\\nA partir del 3 de marzo \\n\\nINDUCCIONES Y EXÁMENES \\n\\nAplicación examen de Proficiencia en Inglés \\n\\nEntre el 28 de febrero y el 4 de \\n\\nmarzo                        \\n\\nInducciones   \\n\\n- Biblioteca y Bienestar Universitario \\n\\nEntre el 7 y el 18 de marzo \\n\\n- Facultades y programas \\n\\nEntre el 22 y el 25 de marzo \\n\\nARTÍCULO 2º. \\n\\nEstablecer el siguiente calendario académico para \\nel  proceso  de  MATRÍCULA  Y  DESARROLLO \\ncorrespondiente al primer período académico de 2022, el cual se denominará \\nmarzo-julio 2022 para los programas académicos de Pregrado, que se ofrecen \\nen las Sede Cali: \\n\\nPROCESO DE MATRÍCULA PARA ADMITIDOS: \\n\\nMatrícula Admitidos a Primer Semestre \\n\\nMatrícula de Asignaturas Electivas vía web \\no en la Dirección del Programa Académico \\nde admitidos \\n\\nProceso  de  Matrícula  para  los  Admitidos  por \\nTransferencia: \\n\\n16 de marzo \\n\\nMatrícula Académica con la asesoría del Director \\nde Programa Académico \\n\\n16 de marzo \\n\\nInducción de Biblioteca y Bienestar Universitario \\n\\n18 de marzo \\n\\nDESARROLLO DEL SEMESTRE: \\n\\nDescarga  de  recibos  para  estudiantes  antiguos \\nque deben realizar pago. \\n\\nA partir del 28 de febrero \\n\\n \\n \\n \\n \\n \\n \\n \\n \\n \\n  \\n  \\n  \\n \\n \\n \\n \\n \\n \\n \\n \\n \\n \\n \\n \\n \\n \\n \\n \\n \\n \\n \\n \\n\\x0cUNIVERSIDAD DEL VALLE \\nRESOLUCIÓN No. 040 - 2022         Consejo Académico  \\n\\n3 \\n\\nMatrícula Financiera para Estudiantes Antiguos \\n\\n-  Sin recargo \\n\\n-  Con recargo \\n\\nHasta el 7 de marzo \\n\\nHasta el 8 de marzo \\n\\nMatrícula  Financiera  para  Estudiantes  de \\nReingreso, Reingreso con Traslado y Cambios de \\nSede a Cali \\n\\nDescarga de recibos de pago para estudiantes \\nReingreso, Reingreso con Traslado y \\nCambios de Sede a Cali. \\n\\nPago sin recargo \\n\\nPago sin recargo \\n\\nA partir del 18 de marzo \\n\\nHasta el 25 de marzo \\n\\nHasta el 28 de marzo \\n\\nMatrícula Académica para Estudiantes Antiguos\\n\\nDel 16 al 18 de marzo \\n\\nSolicitud vía Web para cursar asignaturas en otra \\nSede  (sólo  entre  sedes  regionales  con  el  mismo \\ncalendario) \\n\\nFecha  adicional  para  modificación  de  matrícula \\nestudiantes antiguos. \\n\\nMatrícula para estudiantes de Reingresos, \\nReingreso con Traslado y Cambios de Sede a Cali \\n\\nInicio de Clases \\n\\n16 al 18 de marzo \\n\\n8 de abril \\n\\n8 de abril \\n\\n4 de abril \\n\\nInscripción para validaciones en el Programa \\n\\nEntre el 4 y 8 de abril \\n\\nReporte de calificaciones de validación al Área de \\nRegistro Académico \\n\\nHasta el 29 de abril \\n\\nAdición y Cancelación de Asignaturas \\n\\nEntre el 4 y el  6 de mayo \\n\\nCancelación de Asignaturas \\n\\n26 y 27 de mayo \\n\\nFecha límite para cancelar semestre \\n\\nFinalización de clases \\n\\nExámenes finales \\n\\nFinalización del Período \\n\\nHabilitaciones \\n\\n17 de junio \\n\\n29 de julio \\n\\nHasta el 5 de agosto \\n\\n5 de agosto 2022 \\n\\nHasta el 12 de agosto \\n\\n \\n \\n \\n \\n \\n \\n \\n \\n \\n \\n \\n \\n \\n   \\n \\n \\n \\n \\n \\n \\n \\n \\n \\n \\n \\n \\n \\n \\n \\n \\n\\x0cUNIVERSIDAD DEL VALLE \\nRESOLUCIÓN No. 040 - 2022         Consejo Académico  \\n\\n4 \\n\\nRegistro de Calificaciones en SRA por parte de \\nlos Docentes. \\n\\nEntre el 29 de julio y el 19 de \\nagosto \\n\\nRegistro  de  Calificaciones  en  SRA  para \\nAsignaturas  Trabajo  de  Grado  y  Asignaturas  de \\nPráctica               \\n\\nEntre el 27 y el 29 de \\nseptiembre \\n\\nExamen de Proficiencia en Idioma Extranjero \\n\\nInscripción \\nexámenes de Proficiencia en Idioma Extranjero. \\n\\nestudiante  antiguos  para \\n\\nlos \\n\\nAplicación  de  los  exámenes  de  proficiencia  en \\nIdioma  Extranjero  por  parte  de  la  Escuela  de \\nCiencias del Lenguaje. \\n\\nEntre el 15 de junio y el 15 de \\njulio de 2022 \\n\\n28 y 29 de julio de 2022 \\n\\nARTÍCULO 3º. \\n\\nLos estudiantes que matricularon asignaturas sin \\nel cumplimiento de los prerrequisitos y finalmente \\nno los aprobaron, podrán ajustar su matrícula el 8 de abril de 2022.  En los \\ncasos que lo requieren podrán solicitar la asesoría del director de programa \\nacadémico. \\n\\nARTÍCULO 4º.        \\n\\nUna    vez    finalizado    el    proceso  de  registro  de \\ncalificaciones  del  periodo  octubre  2021  -  marzo \\n2022, la División de Admisiones y Registro Académico, pondrá a disposición \\nde  la  direcciones  de  programa  académico,  la  relación  de  estudiantes \\nmatriculados en asignaturas sin el debido cumplimiento de los prerrequisitos. \\n\\nPARÁGRAFO.  \\n\\nRevisado el cumplimiento de los prerrequisitos, las \\ndirecciones  de  programas  académicos,  podrán \\ncancelar asignaturas de oficio, si considera que el estudiante no se encuentra \\nregularmente matriculado. La División de Admisiones y Registro Académico \\nestablecerá e informará los días que se habilitará el sistema para este fin. \\n\\nCOMUNÍQUESE, PUBLÍQUESE Y CÚMPLASE \\n\\nDada en Santiago de Cali a los 17 días del mes de febrero de 2022. \\n\\nEl presidente, \\n\\nEDGAR VARELA BARRIOS \\n                 Rector \\n\\n    LUIS CARLOS CASTILLO GÓMEZ \\n\\n       Secretario General                          \\n\\n \\n \\n \\n \\n \\n \\n \\n \\n \\n                                                   \\n \\n \\n \\n \\n \\n \\n \\n \\n \\n \\n \\n \\n       \\n \\n \\n \\n \\n \\n   \\n \\n \\n \\n \\n \\n \\n \\n \\n \\n \\n \\n \\n \\n \\n \\n \\n \\n \\n \\n \\n \\n \\n \\n \\n \\n \\n \\n \\n \\n \\n \\n \\n \\n \\n\\x0c'"
      ]
     },
     "execution_count": 5,
     "metadata": {},
     "output_type": "execute_result"
    }
   ],
   "source": [
    "PDF_read"
   ]
  },
  {
   "cell_type": "code",
   "execution_count": 6,
   "id": "48505721",
   "metadata": {},
   "outputs": [],
   "source": [
    "#Limpiando el texto extraido de pdf\n",
    "import os\n",
    "import re\n",
    "from nltk.corpus import stopwords\n",
    "import pandas as pd\n",
    "import spacy\n",
    "import nltk\n",
    "from nltk.tokenize import word_tokenize\n",
    "from nltk.stem import WordNetLemmatizer\n",
    "\n",
    "def clean_tokenize(nuevo_texto):\n",
    "    # Eliminación de páginas web (palabras que empiezan por \"http\")\n",
    "    nuevo_texto = re.sub('http\\S+', ' ', nuevo_texto)\n",
    "    # Eliminación de signos de puntuación\n",
    "    regex = '[\\\\!\\\\\"\\\\#\\\\$\\\\%\\\\&\\\\\\'\\\\(\\\\)\\\\*\\\\+\\\\,\\\\-\\\\/\\\\:\\\\;\\\\<\\\\=\\\\>\\\\?\\\\@\\\\[\\\\\\\\\\\\]\\\\^_\\\\`\\\\{\\\\|\\\\}\\\\~\\\\“\\\\º]'\n",
    "    nuevo_texto = re.sub(regex , ' ', nuevo_texto)\n",
    "    # Eliminación de números\n",
    "    nuevo_texto = re.sub(\"\\d+\", ' ', nuevo_texto)\n",
    "    # Eliminación de espacios en blanco múltiples\n",
    "    nuevo_texto = re.sub(\"\\\\s+\", ' ', nuevo_texto)\n",
    "    # Tokenización por palabras individuales\n",
    "   \n",
    "    # Eliminación de tokens con una longitud < 2    \n",
    "    return(nuevo_texto)"
   ]
  },
  {
   "cell_type": "code",
   "execution_count": 7,
   "id": "9b7f52e1",
   "metadata": {},
   "outputs": [],
   "source": [
    "Pdf=clean_tokenize(PDF_read)"
   ]
  },
  {
   "cell_type": "code",
   "execution_count": 8,
   "id": "393ab003",
   "metadata": {},
   "outputs": [
    {
     "data": {
      "text/plain": [
       "' UNIVERSIDAD DEL VALLE CONSEJO ACADÉMICO RESOLUCIÓN No. de febrero de Por la cual se establece el calendario para el primer período académico de para los programas académicos de Pregrado que se ofrecen en la Sede Cali y se modifica la resolución No. del de octubre de del Consejo Académico”. EL CONSEJO ACADÉMICO DE LA UNIVERSIDAD DEL VALLE en uso de las atribuciones que le confiere el literal h del Artículo ° del Estatuto General de la Universidad del Valle R E S U E L V E ARTÍCULO . Modificar parcialmente la Resolución No. del de octubre de del Consejo Académico por la cual se estableció el calendario académico para el proceso de INSCRIPCIÓN Y ADMISIÓN A PRIMER SEMESTRE para el primer periodo de para los programas académicos de PREGRADO que se ofrecen en la Sede Cali así Publicación de admitidos por REINSCRIPCIÓN de febrero de Publicación en la web de la información para oficializar la matrícula a los admitidos por Reinscripción Recepción de documentos soporte digitalizados a admitidos por Reinscripción para liquidación de los derechos económicos y matrícula académica de febrero y de febrero Descarga de recibos de pago para A partir del de febrero todos los admitidos Plazo para pago en el Banco para todos los admitidos Sin recargo Con recargo de marzo de marzo Universidaddel Valle UNIVERSIDAD DEL VALLE RESOLUCIÓN No. Consejo Académico RESERVA DE CUPO Solicitar reserva de cupo Entre el y el de febrero Respuesta a las solicitudes de reserva de cupo A partir del de marzo INDUCCIONES Y EXÁMENES Aplicación examen de Proficiencia en Inglés Entre el de febrero y el de marzo Inducciones Biblioteca y Bienestar Universitario Entre el y el de marzo Facultades y programas Entre el y el de marzo ARTÍCULO . Establecer el siguiente calendario académico para el proceso de MATRÍCULA Y DESARROLLO correspondiente al primer período académico de el cual se denominará marzo julio para los programas académicos de Pregrado que se ofrecen en las Sede Cali PROCESO DE MATRÍCULA PARA ADMITIDOS Matrícula Admitidos a Primer Semestre Matrícula de Asignaturas Electivas vía web o en la Dirección del Programa Académico de admitidos Proceso de Matrícula para los Admitidos por Transferencia de marzo Matrícula Académica con la asesoría del Director de Programa Académico de marzo Inducción de Biblioteca y Bienestar Universitario de marzo DESARROLLO DEL SEMESTRE Descarga de recibos para estudiantes antiguos que deben realizar pago. A partir del de febrero UNIVERSIDAD DEL VALLE RESOLUCIÓN No. Consejo Académico Matrícula Financiera para Estudiantes Antiguos Sin recargo Con recargo Hasta el de marzo Hasta el de marzo Matrícula Financiera para Estudiantes de Reingreso Reingreso con Traslado y Cambios de Sede a Cali Descarga de recibos de pago para estudiantes Reingreso Reingreso con Traslado y Cambios de Sede a Cali. Pago sin recargo Pago sin recargo A partir del de marzo Hasta el de marzo Hasta el de marzo Matrícula Académica para Estudiantes Antiguos Del al de marzo Solicitud vía Web para cursar asignaturas en otra Sede sólo entre sedes regionales con el mismo calendario Fecha adicional para modificación de matrícula estudiantes antiguos. Matrícula para estudiantes de Reingresos Reingreso con Traslado y Cambios de Sede a Cali Inicio de Clases al de marzo de abril de abril de abril Inscripción para validaciones en el Programa Entre el y de abril Reporte de calificaciones de validación al Área de Registro Académico Hasta el de abril Adición y Cancelación de Asignaturas Entre el y el de mayo Cancelación de Asignaturas y de mayo Fecha límite para cancelar semestre Finalización de clases Exámenes finales Finalización del Período Habilitaciones de junio de julio Hasta el de agosto de agosto Hasta el de agosto UNIVERSIDAD DEL VALLE RESOLUCIÓN No. Consejo Académico Registro de Calificaciones en SRA por parte de los Docentes. Entre el de julio y el de agosto Registro de Calificaciones en SRA para Asignaturas Trabajo de Grado y Asignaturas de Práctica Entre el y el de septiembre Examen de Proficiencia en Idioma Extranjero Inscripción exámenes de Proficiencia en Idioma Extranjero. estudiante antiguos para los Aplicación de los exámenes de proficiencia en Idioma Extranjero por parte de la Escuela de Ciencias del Lenguaje. Entre el de junio y el de julio de y de julio de ARTÍCULO . Los estudiantes que matricularon asignaturas sin el cumplimiento de los prerrequisitos y finalmente no los aprobaron podrán ajustar su matrícula el de abril de . En los casos que lo requieren podrán solicitar la asesoría del director de programa académico. ARTÍCULO . Una vez finalizado el proceso de registro de calificaciones del periodo octubre marzo la División de Admisiones y Registro Académico pondrá a disposición de la direcciones de programa académico la relación de estudiantes matriculados en asignaturas sin el debido cumplimiento de los prerrequisitos. PARÁGRAFO. Revisado el cumplimiento de los prerrequisitos las direcciones de programas académicos podrán cancelar asignaturas de oficio si considera que el estudiante no se encuentra regularmente matriculado. La División de Admisiones y Registro Académico establecerá e informará los días que se habilitará el sistema para este fin. COMUNÍQUESE PUBLÍQUESE Y CÚMPLASE Dada en Santiago de Cali a los días del mes de febrero de . El presidente EDGAR VARELA BARRIOS Rector LUIS CARLOS CASTILLO GÓMEZ Secretario General '"
      ]
     },
     "execution_count": 8,
     "metadata": {},
     "output_type": "execute_result"
    }
   ],
   "source": [
    "Pdf"
   ]
  },
  {
   "cell_type": "code",
   "execution_count": 9,
   "id": "0fef4142",
   "metadata": {},
   "outputs": [
    {
     "data": {
      "text/plain": [
       "5391"
      ]
     },
     "execution_count": 9,
     "metadata": {},
     "output_type": "execute_result"
    }
   ],
   "source": [
    "len(Pdf)"
   ]
  },
  {
   "cell_type": "code",
   "execution_count": 10,
   "id": "d7739278",
   "metadata": {},
   "outputs": [],
   "source": [
    "from deep_translator import GoogleTranslator"
   ]
  },
  {
   "cell_type": "code",
   "execution_count": 15,
   "id": "2887295d",
   "metadata": {},
   "outputs": [
    {
     "name": "stdout",
     "output_type": "stream",
     "text": [
      "UNIVERSIDAD DEL VALLE ACADEMIC COUNCIL RESOLUTION No. of February By which the calendar for the first academic period for the Undergraduate academic programs offered at the Cali Campus is established and resolution No. of October of the Council is modified Academic\". THE ACADEMIC COUNCIL OF THE UNIVERSITY OF THE VALLEY in use of the powers conferred by literal h of Article ° of the General Statute of the University of the Valley RESOLVES V E ARTICLE . Partially modify the Resolution No. of October of the Academic Council by which the academic calendar was established for the process of REGISTRATION AND ADMISSION TO THE FIRST SEMESTER for the first period of for the UNDERGRADUATE academic programs offered at the Cali Campus as well Publication of those admitted for RE-REGISTRATION in February Publication on the web of the information to formalize the registration of those admitted for Re-registration Receipt of digitized support documents for those admitted for Re-registration for payment of economic rights and academic registration for February and February Download of receipts of payment for As of February all those admitted Deadline for payment in the Bank for all those admitted Without surcharge With surcharge from March to March Universidad del Valle UNIVERSIDAD DEL VALLE RESOLUTION No. Academic Council QUOTA RESERVATION Request quota reservation Between and February Response to quota reservation requests As of m March INDUCTIONS AND EXAMS English Proficiency exam application Between February and March Library and University Welfare Inductions Between March and Faculties and programs Between March and ARTICLE . Establish the following academic calendar for the ENROLLMENT AND DEVELOPMENT process corresponding to the first academic period of which will be called March-July for the Undergraduate academic programs offered at the Cali Campus ENROLLMENT PROCESS FOR ADMITTED Enrollment Admitted to First Semester Subject Enrollment Electives via the web or at the Directorate of the Academic Program for those admitted Enrollment Process for those Admitted by Transfer in March Academic Enrollment with the advice of the Director of the Academic Program in March Library Induction and University Welfare in March DEVELOPMENT OF THE SEMESTER Download receipts for students old that must make payment. As of February UNIVERSIDAD DEL VALLE RESOLUTION No. Academic Council Financial Enrollment for Old Students Without surcharge With surcharge Until March Until March Financial Enrollment for Re-entry Students Re-entry with Transfer and Changes of Venue to Cali Download payment receipts for students Reentry Reentry with Transfer and Changes of Venue to Cali. Payment without surcharge Payment without surcharge From March Until March Until March Academic Enrollment for Old Students From March to March Application via Web to take subjects in another Headquarters only between regional headquarters with the same calendar Additional date for modification of old student enrollment Enrollment for Re-entry students Re-entry with Transfer and Changes of Venue to Cali Start of Classes as of March April April April Enrollment for validations in the Program Between April and April Validation report of qualifications to the Academic Registration Area Until April Addition and Cancellation of Subjects Between May and May Cancellation of Subjects and May Deadline to cancel semester End of classes Final exams End of the Period Authorizations June July Until August August Until August UNIVERSIDAD DEL VALLE RESOLUTION No. Academic Council Record of Qualifications in SRA by Teachers. Between July and August Registration of Qualifications in SRA for Subjects Degree Work and Practice Subjects Between September and September Foreign Language Proficiency Exam Registration for Foreign Language Proficiency exams. old student for the Application of proficiency exams in Foreign Language by the School of Language Sciences. Between June and July and July ARTICLE . Students who enrolled courses without fulfilling the prerequisites and finally did not pass them will be able to adjust their enrollment on April . In cases that require it, they may request the advice of the director of the academic program. ARTICLE . Once the process of registering grades for the October-March period has been completed, the Admissions and Academic Registration Division will make available to the academic program directors the list of students enrolled in subjects without due compliance.\n"
     ]
    }
   ],
   "source": [
    "traductor = GoogleTranslator(source='es', target='en')\n",
    "resultado = traductor.translate(Pdf[0:4850])\n",
    "print(resultado)"
   ]
  },
  {
   "cell_type": "code",
   "execution_count": 16,
   "id": "ef48f59a",
   "metadata": {},
   "outputs": [
    {
     "name": "stdout",
     "output_type": "stream",
     "text": [
      "or the prerequisites. PARAGRAPH. Once compliance with the prerequisites has been reviewed, the academic program directorates may cancel ex officio courses if they consider that the student is not regularly enrolled. The Division of Admissions and Academic Registration will establish and inform the days that the system will be enabled for this purpose. COMMUNICATE, PUBLISH AND ENFORCE Given in Santiago de Cali on February . The President EDGAR VARELA BARRIOS Rector LUIS CARLOS CASTILLO GÓMEZ Secretary General\n"
     ]
    }
   ],
   "source": [
    "resultado1 = traductor.translate(Pdf[4851:5392])\n",
    "print(resultado1)"
   ]
  },
  {
   "cell_type": "code",
   "execution_count": null,
   "id": "babbf1ee",
   "metadata": {},
   "outputs": [],
   "source": []
  }
 ],
 "metadata": {
  "kernelspec": {
   "display_name": "Python 3 (ipykernel)",
   "language": "python",
   "name": "python3"
  },
  "language_info": {
   "codemirror_mode": {
    "name": "ipython",
    "version": 3
   },
   "file_extension": ".py",
   "mimetype": "text/x-python",
   "name": "python",
   "nbconvert_exporter": "python",
   "pygments_lexer": "ipython3",
   "version": "3.9.7"
  }
 },
 "nbformat": 4,
 "nbformat_minor": 5
}
