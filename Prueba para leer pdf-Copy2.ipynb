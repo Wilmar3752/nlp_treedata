{
 "cells": [
  {
   "cell_type": "code",
   "execution_count": 41,
   "id": "6ea9b4db",
   "metadata": {},
   "outputs": [
    {
     "name": "stdout",
     "output_type": "stream",
     "text": [
      "The autoreload extension is already loaded. To reload it, use:\n",
      "  %reload_ext autoreload\n"
     ]
    }
   ],
   "source": [
    "%load_ext autoreload\n",
    "%autoreload 2\n",
    "import sys\n",
    "from read_files import *"
   ]
  },
  {
   "cell_type": "code",
   "execution_count": 11,
   "id": "ad1d978c",
   "metadata": {},
   "outputs": [
    {
     "data": {
      "text/plain": [
       "['Investigacion 61.txt', '4069.pdf']"
      ]
     },
     "execution_count": 11,
     "metadata": {},
     "output_type": "execute_result"
    }
   ],
   "source": [
    "files = os.listdir(\"data/pdfs/español\")\n",
    "#files = ['Investigacion 61.txt','4069.pdf']\n",
    "files"
   ]
  },
  {
   "cell_type": "code",
   "execution_count": 29,
   "id": "a9cbc099",
   "metadata": {},
   "outputs": [
    {
     "data": {
      "text/plain": [
       "['Investigacion 61.txt', '4069.pdf']"
      ]
     },
     "execution_count": 29,
     "metadata": {},
     "output_type": "execute_result"
    }
   ],
   "source": [
    "files"
   ]
  },
  {
   "cell_type": "code",
   "execution_count": 31,
   "id": "5a729fe3",
   "metadata": {},
   "outputs": [
    {
     "name": "stdout",
     "output_type": "stream",
     "text": [
      "español\n",
      "procesando 3527-Competitividad-y-Productividad.pdf\n",
      "..traduciendo\n",
      "procesando 4069.pdf\n",
      "..traduciendo\n",
      "procesando compes 3582.pdf\n",
      "..traduciendo\n",
      "procesando compes 3866.pdf\n",
      "..traduciendo\n",
      "procesando P.L.008-2017C_004-2017S (INNOVACION AGROPECUARIA).pdf\n",
      "..traduciendo\n",
      "procesando pectia-2017-actualizado.pdf\n",
      "..traduciendo\n",
      "procesando PLAN_DE_ACCION_INSTITUCIONAL_VIGENCIA_2021.pdf\n",
      "..traduciendo\n",
      "procesando Sistemas y políticas de innovación para el sector agropecuario en América Latina.pdf\n",
      "..traduciendo\n",
      "ingles\n",
      "procesando IMA2.pdf\n"
     ]
    }
   ],
   "source": [
    "dir_list = os.listdir(\"data/pdfs\")\n",
    "dir_list\n",
    "salida = []\n",
    "for dir in dir_list:\n",
    "    print(dir)\n",
    "    files_dir = os.listdir(\"data/pdfs/\"+dir)\n",
    "    for file in files_dir:\n",
    "        if file.endswith(\".pdf\")==True:\n",
    "            print(\"procesando \" + file)\n",
    "            texto = get_pdf(\"data/pdfs/\"+dir+\"/\"+file)\n",
    "        elif file.endswith(\".txt\")==True:\n",
    "            print(\"procesando \" + file)\n",
    "            texto = get_txt(\"data/pdfs/\"+dir+\"/\"+file)\n",
    "        if dir == \"español\":\n",
    "            print(\"..traduciendo\")\n",
    "            texto = text_to_eng(texto)\n",
    "        else: texto \n",
    "        salida.append(texto)"
   ]
  },
  {
   "cell_type": "code",
   "execution_count": 42,
   "id": "c0363ac4",
   "metadata": {},
   "outputs": [
    {
     "name": "stdout",
     "output_type": "stream",
     "text": [
      "español\n",
      "procesando 3527-Competitividad-y-Productividad.pdf\n",
      "..traduciendo\n",
      "procesando 4069.pdf\n",
      "..traduciendo\n",
      "procesando compes 3582.pdf\n",
      "..traduciendo\n",
      "procesando compes 3866.pdf\n",
      "..traduciendo\n",
      "procesando P.L.008-2017C_004-2017S (INNOVACION AGROPECUARIA).pdf\n",
      "..traduciendo\n",
      "procesando pectia-2017-actualizado.pdf\n",
      "..traduciendo\n",
      "procesando PLAN_DE_ACCION_INSTITUCIONAL_VIGENCIA_2021.pdf\n",
      "..traduciendo\n",
      "procesando Sistemas y políticas de innovación para el sector agropecuario en América Latina.pdf\n",
      "..traduciendo\n",
      "ingles\n",
      "procesando IMA2.pdf\n",
      "procesando Investigacion 61.txt\n"
     ]
    }
   ],
   "source": [
    "df = get_data(\"data/pdfs/\")"
   ]
  },
  {
   "cell_type": "code",
   "execution_count": 43,
   "id": "a68bf7ad",
   "metadata": {},
   "outputs": [
    {
     "data": {
      "text/html": [
       "<div>\n",
       "<style scoped>\n",
       "    .dataframe tbody tr th:only-of-type {\n",
       "        vertical-align: middle;\n",
       "    }\n",
       "\n",
       "    .dataframe tbody tr th {\n",
       "        vertical-align: top;\n",
       "    }\n",
       "\n",
       "    .dataframe thead th {\n",
       "        text-align: right;\n",
       "    }\n",
       "</style>\n",
       "<table border=\"1\" class=\"dataframe\">\n",
       "  <thead>\n",
       "    <tr style=\"text-align: right;\">\n",
       "      <th></th>\n",
       "      <th>document</th>\n",
       "      <th>idioma</th>\n",
       "      <th>file</th>\n",
       "      <th>clean_text</th>\n",
       "    </tr>\n",
       "  </thead>\n",
       "  <tbody>\n",
       "    <tr>\n",
       "      <th>0</th>\n",
       "      <td>DDooccuummeennttoo CCoonnppeess National Counc...</td>\n",
       "      <td>español</td>\n",
       "      <td>3527-Competitividad-y-Productividad.pdf</td>\n",
       "      <td>[ddooccuummeennttoo, ccoonnppeess, national, c...</td>\n",
       "    </tr>\n",
       "    <tr>\n",
       "      <th>1</th>\n",
       "      <td>Document CONPES NATIONAL COUNCIL FOR ECONOMIC ...</td>\n",
       "      <td>español</td>\n",
       "      <td>4069.pdf</td>\n",
       "      <td>[document, conpes, national, council, economic...</td>\n",
       "    </tr>\n",
       "    <tr>\n",
       "      <th>2</th>\n",
       "      <td>DDooccuummeennttoo CCoonnppeess National Counc...</td>\n",
       "      <td>español</td>\n",
       "      <td>compes 3582.pdf</td>\n",
       "      <td>[ddooccuummeennttoo, ccoonnppeess, national, c...</td>\n",
       "    </tr>\n",
       "    <tr>\n",
       "      <th>3</th>\n",
       "      <td>Document CONPES NATIONAL COUNCIL FOR ECONOMIC ...</td>\n",
       "      <td>español</td>\n",
       "      <td>compes 3866.pdf</td>\n",
       "      <td>[document, conpes, national, council, economic...</td>\n",
       "    </tr>\n",
       "    <tr>\n",
       "      <th>4</th>\n",
       "      <td>PROJECT OF LAW No. THROUGH WHICH THE NATIONAL ...</td>\n",
       "      <td>español</td>\n",
       "      <td>P.L.008-2017C_004-2017S (INNOVACION AGROPECUAR...</td>\n",
       "      <td>[project, law, national, agricultural, innovat...</td>\n",
       "    </tr>\n",
       "    <tr>\n",
       "      <th>5</th>\n",
       "      <td>PECTIA Strategic Plan for Science, Technology ...</td>\n",
       "      <td>español</td>\n",
       "      <td>pectia-2017-actualizado.pdf</td>\n",
       "      <td>[pectia, strategic, plan, science, technology,...</td>\n",
       "    </tr>\n",
       "    <tr>\n",
       "      <th>6</th>\n",
       "      <td>Ministry of Agriculture and Rural Development ...</td>\n",
       "      <td>español</td>\n",
       "      <td>PLAN_DE_ACCION_INSTITUCIONAL_VIGENCIA_2021.pdf</td>\n",
       "      <td>[ministry, agriculture, rural, development, in...</td>\n",
       "    </tr>\n",
       "    <tr>\n",
       "      <th>7</th>\n",
       "      <td>Innovation systems and policies for the agricu...</td>\n",
       "      <td>español</td>\n",
       "      <td>Sistemas y políticas de innovación para el sec...</td>\n",
       "      <td>[innovation, system, policy, agricultural, sec...</td>\n",
       "    </tr>\n",
       "    <tr>\n",
       "      <th>8</th>\n",
       "      <td>An irregularly spaced ﬁrst order moving averag...</td>\n",
       "      <td>ingles</td>\n",
       "      <td>IMA2.pdf</td>\n",
       "      <td>[irregularly, spaced, ﬁrst, order, moving, ave...</td>\n",
       "    </tr>\n",
       "    <tr>\n",
       "      <th>9</th>\n",
       "      <td>Scientific Fields of Interest: Agriculture.\\nM...</td>\n",
       "      <td>ingles</td>\n",
       "      <td>Investigacion 61.txt</td>\n",
       "      <td>[scientific, field, interest, agriculture, lin...</td>\n",
       "    </tr>\n",
       "  </tbody>\n",
       "</table>\n",
       "</div>"
      ],
      "text/plain": [
       "                                            document   idioma  \\\n",
       "0  DDooccuummeennttoo CCoonnppeess National Counc...  español   \n",
       "1  Document CONPES NATIONAL COUNCIL FOR ECONOMIC ...  español   \n",
       "2  DDooccuummeennttoo CCoonnppeess National Counc...  español   \n",
       "3  Document CONPES NATIONAL COUNCIL FOR ECONOMIC ...  español   \n",
       "4  PROJECT OF LAW No. THROUGH WHICH THE NATIONAL ...  español   \n",
       "5  PECTIA Strategic Plan for Science, Technology ...  español   \n",
       "6  Ministry of Agriculture and Rural Development ...  español   \n",
       "7  Innovation systems and policies for the agricu...  español   \n",
       "8  An irregularly spaced ﬁrst order moving averag...   ingles   \n",
       "9  Scientific Fields of Interest: Agriculture.\\nM...   ingles   \n",
       "\n",
       "                                                file  \\\n",
       "0            3527-Competitividad-y-Productividad.pdf   \n",
       "1                                           4069.pdf   \n",
       "2                                    compes 3582.pdf   \n",
       "3                                    compes 3866.pdf   \n",
       "4  P.L.008-2017C_004-2017S (INNOVACION AGROPECUAR...   \n",
       "5                        pectia-2017-actualizado.pdf   \n",
       "6     PLAN_DE_ACCION_INSTITUCIONAL_VIGENCIA_2021.pdf   \n",
       "7  Sistemas y políticas de innovación para el sec...   \n",
       "8                                           IMA2.pdf   \n",
       "9                               Investigacion 61.txt   \n",
       "\n",
       "                                          clean_text  \n",
       "0  [ddooccuummeennttoo, ccoonnppeess, national, c...  \n",
       "1  [document, conpes, national, council, economic...  \n",
       "2  [ddooccuummeennttoo, ccoonnppeess, national, c...  \n",
       "3  [document, conpes, national, council, economic...  \n",
       "4  [project, law, national, agricultural, innovat...  \n",
       "5  [pectia, strategic, plan, science, technology,...  \n",
       "6  [ministry, agriculture, rural, development, in...  \n",
       "7  [innovation, system, policy, agricultural, sec...  \n",
       "8  [irregularly, spaced, ﬁrst, order, moving, ave...  \n",
       "9  [scientific, field, interest, agriculture, lin...  "
      ]
     },
     "execution_count": 43,
     "metadata": {},
     "output_type": "execute_result"
    }
   ],
   "source": [
    "df"
   ]
  },
  {
   "cell_type": "code",
   "execution_count": null,
   "id": "83dc7d24",
   "metadata": {},
   "outputs": [],
   "source": []
  }
 ],
 "metadata": {
  "kernelspec": {
   "display_name": "Python 3 (ipykernel)",
   "language": "python",
   "name": "python3"
  },
  "language_info": {
   "codemirror_mode": {
    "name": "ipython",
    "version": 3
   },
   "file_extension": ".py",
   "mimetype": "text/x-python",
   "name": "python",
   "nbconvert_exporter": "python",
   "pygments_lexer": "ipython3",
   "version": "3.10.4"
  }
 },
 "nbformat": 4,
 "nbformat_minor": 5
}
